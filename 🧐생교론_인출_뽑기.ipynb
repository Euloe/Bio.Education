{
  "nbformat": 4,
  "nbformat_minor": 0,
  "metadata": {
    "colab": {
      "name": "🧐생교론 인출 뽑기",
      "provenance": [],
      "collapsed_sections": [],
      "authorship_tag": "ABX9TyNj8Hra5zmMXDMEbHHMx/yh",
      "include_colab_link": true
    },
    "kernelspec": {
      "name": "python3",
      "display_name": "Python 3"
    },
    "language_info": {
      "name": "python"
    }
  },
  "cells": [
    {
      "cell_type": "markdown",
      "metadata": {
        "id": "view-in-github",
        "colab_type": "text"
      },
      "source": [
        "<a href=\"https://colab.research.google.com/github/Euloe/Bio.Education/blob/main/%F0%9F%A7%90%EC%83%9D%EA%B5%90%EB%A1%A0_%EC%9D%B8%EC%B6%9C_%EB%BD%91%EA%B8%B0.ipynb\" target=\"_parent\"><img src=\"https://colab.research.google.com/assets/colab-badge.svg\" alt=\"Open In Colab\"/></a>"
      ]
    },
    {
      "cell_type": "markdown",
      "metadata": {
        "id": "eD9ZTXvA2O_w"
      },
      "source": [
        "# **데이터 받아오기 🤞**\n"
      ]
    },
    {
      "cell_type": "code",
      "metadata": {
        "id": "lXA0Wg_02OK7"
      },
      "source": [
        "#@title **생교론 데이터를 받아봅시다** { run: \"auto\", display-mode: \"form\" }\n",
        "#@markdown 아래 체크박스를 누르면 데이터가 다운됩니다!\n",
        "Download = False #@param {type:\"boolean\"}\n",
        "\n",
        "import pandas as pd\n",
        "#1. 생교론 주제\n",
        "#download\n",
        "df1 = pd.read_csv('https://raw.githubusercontent.com/Euloe/Bio.Education/main/Bioedu.csv')\n",
        "df1 = df1.dropna(axis=1, how='all', inplace=False)\n",
        "df1 = df1.dropna(axis=0, how='all', inplace=False)\n",
        "df1 = df1.fillna(0) #Nan을 0으로 대치\n",
        "#list\n",
        "unit = list(df1['unit']) #리스트화\n",
        "for a in unit: #0값 제거하기 (Nan)\n",
        "  if a == 0:\n",
        "    unit.remove(0)\n",
        "    for a in unit: \n",
        "      if a == 0:\n",
        "        unit.remove(0)\n",
        "unit.remove(0)\n",
        "\n",
        "topic = list(df1['topic']) #리스트화\n",
        "for a in topic: #0값 제거하기 (Nan)\n",
        "  if a == 0:\n",
        "    topic.remove(0)\n",
        "    for a in topic: \n",
        "      if a == 0:\n",
        "        topic.remove(0)\n",
        "\n",
        "subtopic = list(df1['subtopic']) #리스트화\n",
        "for a in subtopic: #0값 제거하기 (Nan)\n",
        "  if a == 0:\n",
        "    subtopic.remove(0)\n",
        "    for a in subtopic: \n",
        "      if a == 0:\n",
        "        subtopic.remove(0)\n",
        "#dicaionary\n",
        "df1_lst = []\n",
        "for h in range(0,len(df1)):\n",
        "  df1_lst.append((list(df1.iloc[h])))\n",
        "location_topic=[]\n",
        "for t in range(0,len(topic)):\n",
        "  for r in range(0,len(df1_lst)): \n",
        "    if topic[t] in df1_lst[r]:\n",
        "      location_topic.append(r)\n",
        "d1={}\n",
        "for loc1 in range(len(location_topic)):\n",
        "  list_subtopic = []\n",
        "  if loc1 < len(location_topic)-1:\n",
        "    for p in range(location_topic[loc1]+1,location_topic[loc1+1]):\n",
        "      if df1_lst[p][2] != 0:\n",
        "        list_subtopic.append(df1_lst[p][2])\n",
        "    d1[topic[loc1]]=list_subtopic\n",
        "  if loc1 == len(location_topic)-1: \n",
        "    for p in range(location_topic[loc1]+1,len(df1)):\n",
        "      if df1_lst[p][2] != 0:\n",
        "        list_subtopic.append(df1_lst[p][2])\n",
        "    d1[topic[loc1]]=list_subtopic\n",
        "\n",
        "#2. 2015개정교육과정 생물과\n",
        "#download\n",
        "df2 = pd.read_csv('https://raw.githubusercontent.com/Euloe/Bio.Education/main/Bioeducurri.csv')\n",
        "df2 = df2.dropna(axis=1, how='all', inplace=False)\n",
        "df2 = df2.dropna(axis=0, how='all', inplace=False)\n",
        "df2 = df2.fillna(0)\n",
        "#list\n",
        "area = list(df2['area']) #리스트화\n",
        "for i in area: #0값 제거하기 (Nan)\n",
        "  if i == 0:\n",
        "    area.remove(0)\n",
        "    for i in area:\n",
        "      if i == 0:\n",
        "        area.remove(0)\n",
        "\n",
        "core = list(df2['core']) #리스트화\n",
        "for i in core: #0값 제거하기 (Nan)\n",
        "  if i == 0:\n",
        "    core.remove(0)\n",
        "    for i in core:\n",
        "      if i == 0: \n",
        "        core.remove(0)\n",
        "#dictionary\n",
        "df2_lst = []\n",
        "for k in range(0,len(df2)):\n",
        "  df2_lst.append((list(df2.iloc[k]))) #make df2 into list\n",
        "location_area=[]\n",
        "for i in range(0,len(area)):\n",
        "  for n in range(0,len(df2_lst)):\n",
        "    if area[i] in df2_lst[n]:\n",
        "      location_area.append(n)  #save the location as list\n",
        "d2={} #combine core concepts as an area in a form of list and put them into dictionary \n",
        "for loc in range(len(location_area)):\n",
        "  list_subcore=[]\n",
        "  if loc < len(location_area)-1: \n",
        "    for l in range(location_area[loc]+1,location_area[loc+1]):\n",
        "      list_subcore.append(df2_lst[l][1])\n",
        "    d2[area[loc]]=list_subcore\n",
        "  if loc == len(location_area)-1:\n",
        "    for i in range(location_area[loc]+1, len(df2)):\n",
        "      list_subcore.append(df2_lst[i][1])\n",
        "    d2[area[loc]]=list_subcore"
      ],
      "execution_count": null,
      "outputs": []
    },
    {
      "cell_type": "markdown",
      "metadata": {
        "id": "dovJT48fBPoI"
      },
      "source": [
        "-----\n",
        "# **1. 생교론 인출 주제 뽑기**\n"
      ]
    },
    {
      "cell_type": "code",
      "metadata": {
        "id": "fne8JWssBcDC"
      },
      "source": [
        "#@title **주제 N개 뽑기** { run: \"auto\", vertical-output: true, display-mode: \"form\" }\n",
        "#@markdown * 오늘의 퀴즈는 몇개❓🧐\n",
        "how_many_topics_you_want =  3#@param {type:\"number\"}\n",
        "#@markdown **오늘의 주제는..! 두구두구두구**\n",
        "\n",
        "import random\n",
        "a = int(how_many_topics_you_want)\n",
        "topic_random = random.sample(topic,int(a))\n",
        "print('\\n'.join(topic_random))"
      ],
      "execution_count": null,
      "outputs": []
    },
    {
      "cell_type": "code",
      "metadata": {
        "id": "V-umvob3F1F8"
      },
      "source": [
        "#@title **생교론 중단원과 하위 소단원 뽑기** { run: \"auto\", vertical-output: true, display-mode: \"form\" }\n",
        "#@markdown 실행을 위해 아래 체크박스를 클릭!\n",
        "Click_to_start = False #@param {type:\"boolean\"}\n",
        "\n",
        "import random\n",
        "a = input('how many you want: ')\n",
        "print()\n",
        "print()\n",
        "print('**Yes You Can!**','\\n')\n",
        "Topic_random = random.sample(topic,int(a))\n",
        "for i in range(int(a)):\n",
        "  print(Topic_random[i])\n",
        "  print('\\n'.join(d1[Topic_random[i]]),'\\n')"
      ],
      "execution_count": null,
      "outputs": []
    },
    {
      "cell_type": "markdown",
      "metadata": {
        "id": "DjoEmWcHGNTS"
      },
      "source": [
        "----\n",
        "# **2. 2015 개정 교육과정 (생물과) 인출 주제 뽑기**"
      ]
    },
    {
      "cell_type": "code",
      "metadata": {
        "id": "qZPcJ-sfI0kP"
      },
      "source": [
        "#@title **(1) 영역 뽑기** { run: \"auto\", vertical-output: true, display-mode: \"form\" }\n",
        "Click_to_start = False #@param {type:\"boolean\"}\n",
        "\n",
        "import random\n",
        "a = input('Write down how many topics you want: ')\n",
        "print()\n",
        "print()\n",
        "print('**Letz go!**','\\n')\n",
        "Area_random = random.sample(area,int(a))\n",
        "for i in range(int(a)):\n",
        "  print(Area_random[i],'\\n')"
      ],
      "execution_count": null,
      "outputs": []
    },
    {
      "cell_type": "code",
      "metadata": {
        "id": "DWFEHWuJJyx0",
        "cellView": "form"
      },
      "source": [
        "#@title **(2) 핵심개념 뽑기**\n",
        "Click_to_start = False #@param {type:\"boolean\"}\n",
        " \n",
        "import random\n",
        "a = input('Write down how many topics you want: ')\n",
        "print()\n",
        "print()\n",
        "print('**Ya Ya yA!**','\\n')\n",
        "Core_random = random.sample(core,int(a))\n",
        "for i in range(int(a)):\n",
        "  print(Core_random[i],'\\n')"
      ],
      "execution_count": null,
      "outputs": []
    },
    {
      "cell_type": "code",
      "metadata": {
        "id": "WM5x0GBjL3E5"
      },
      "source": [
        "#@title **(3) 영역과 핵심개념을 함께 뽑기** { run: \"auto\", vertical-output: true, display-mode: \"form\" }\n",
        "Click_to_start = False #@param {type:\"boolean\"}\n",
        "\n",
        "import random\n",
        "a = input('how many you want: ')\n",
        "print()\n",
        "print()\n",
        "print('**Yes, Yes, Yes!**','\\n')\n",
        "Area_random = random.sample(area,int(a))\n",
        "for i in range(int(a)):\n",
        "  print(Area_random[i])\n",
        "  print('\\n'.join(d2[Area_random[i]]),'\\n')"
      ],
      "execution_count": null,
      "outputs": []
    }
  ]
}